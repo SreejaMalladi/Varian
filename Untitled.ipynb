{
 "cells": [
  {
   "cell_type": "code",
   "execution_count": 1,
   "id": "012954e6",
   "metadata": {},
   "outputs": [
    {
     "ename": "ImportError",
     "evalue": "cannot import name 'LoadNifti' from 'monai.transforms' (/home/maximus/DataspellProjects/Varian/venv/lib/python3.10/site-packages/monai/transforms/__init__.py)",
     "output_type": "error",
     "traceback": [
      "\u001b[0;31m---------------------------------------------------------------------------\u001b[0m",
      "\u001b[0;31mImportError\u001b[0m                               Traceback (most recent call last)",
      "Cell \u001b[0;32mIn[1], line 4\u001b[0m\n\u001b[1;32m      2\u001b[0m \u001b[38;5;28;01mimport\u001b[39;00m \u001b[38;5;21;01mnumpy\u001b[39;00m \u001b[38;5;28;01mas\u001b[39;00m \u001b[38;5;21;01mnp\u001b[39;00m\n\u001b[1;32m      3\u001b[0m \u001b[38;5;28;01mfrom\u001b[39;00m \u001b[38;5;21;01mmonai\u001b[39;00m\u001b[38;5;21;01m.\u001b[39;00m\u001b[38;5;21;01mconfig\u001b[39;00m \u001b[38;5;28;01mimport\u001b[39;00m print_config\n\u001b[0;32m----> 4\u001b[0m \u001b[38;5;28;01mfrom\u001b[39;00m \u001b[38;5;21;01mmonai\u001b[39;00m\u001b[38;5;21;01m.\u001b[39;00m\u001b[38;5;21;01mtransforms\u001b[39;00m \u001b[38;5;28;01mimport\u001b[39;00m (\n\u001b[1;32m      5\u001b[0m     AddChannel,\n\u001b[1;32m      6\u001b[0m     Compose,\n\u001b[1;32m      7\u001b[0m     LoadNifti,\n\u001b[1;32m      8\u001b[0m     ScaleIntensity,\n\u001b[1;32m      9\u001b[0m     RandCropByPosNegLabel,\n\u001b[1;32m     10\u001b[0m     RandRotate,\n\u001b[1;32m     11\u001b[0m     RandZoom,\n\u001b[1;32m     12\u001b[0m     ToTensor,\n\u001b[1;32m     13\u001b[0m )\n\u001b[1;32m     14\u001b[0m \u001b[38;5;28;01mfrom\u001b[39;00m \u001b[38;5;21;01mmonai\u001b[39;00m\u001b[38;5;21;01m.\u001b[39;00m\u001b[38;5;21;01mnetworks\u001b[39;00m\u001b[38;5;21;01m.\u001b[39;00m\u001b[38;5;21;01mnets\u001b[39;00m \u001b[38;5;28;01mimport\u001b[39;00m SegResNet\n\u001b[1;32m     15\u001b[0m \u001b[38;5;28;01mfrom\u001b[39;00m \u001b[38;5;21;01mmonai\u001b[39;00m\u001b[38;5;21;01m.\u001b[39;00m\u001b[38;5;21;01mlosses\u001b[39;00m \u001b[38;5;28;01mimport\u001b[39;00m DiceLoss\n",
      "\u001b[0;31mImportError\u001b[0m: cannot import name 'LoadNifti' from 'monai.transforms' (/home/maximus/DataspellProjects/Varian/venv/lib/python3.10/site-packages/monai/transforms/__init__.py)"
     ]
    }
   ],
   "source": [
    "import torch\n",
    "import numpy as np\n",
    "from monai.config import print_config\n",
    "from monai.transforms import (\n",
    "    AddChanned,\n",
    "    Composed,\n",
    "    LoadNifti,\n",
    "    ScaleIntensity,\n",
    "    RandCropByPosNegLabel,\n",
    "    RandRotate,\n",
    "    RandZoom,\n",
    "    ToTensor,\n",
    ")\n",
    "from monai.networks.nets import SegResNet\n",
    "from monai.losses import DiceLoss\n",
    "from monai.metrics import DiceMetric\n",
    "from monai.inferers import sliding_window_inference\n",
    "from monai.utils import set_determinism\n",
    "from monai.data import CacheDataset, DataLoader\n",
    "from monai.transforms import Spacing\n"
   ]
  },
  {
   "cell_type": "code",
   "execution_count": 2,
   "id": "d9fef384",
   "metadata": {},
   "outputs": [
    {
     "ename": "ImportError",
     "evalue": "cannot import name 'LoadNifti' from 'monai.transforms.io' (/home/maximus/DataspellProjects/Varian/venv/lib/python3.10/site-packages/monai/transforms/io/__init__.py)",
     "output_type": "error",
     "traceback": [
      "\u001b[0;31m---------------------------------------------------------------------------\u001b[0m",
      "\u001b[0;31mImportError\u001b[0m                               Traceback (most recent call last)",
      "Cell \u001b[0;32mIn[2], line 1\u001b[0m\n\u001b[0;32m----> 1\u001b[0m \u001b[38;5;28;01mfrom\u001b[39;00m \u001b[38;5;21;01mmonai\u001b[39;00m\u001b[38;5;21;01m.\u001b[39;00m\u001b[38;5;21;01mtransforms\u001b[39;00m\u001b[38;5;21;01m.\u001b[39;00m\u001b[38;5;21;01mio\u001b[39;00m \u001b[38;5;28;01mimport\u001b[39;00m LoadNifti\n",
      "\u001b[0;31mImportError\u001b[0m: cannot import name 'LoadNifti' from 'monai.transforms.io' (/home/maximus/DataspellProjects/Varian/venv/lib/python3.10/site-packages/monai/transforms/io/__init__.py)"
     ]
    }
   ],
   "source": [
    "from monai.transforms.io import LoadNifti"
   ]
  },
  {
   "cell_type": "code",
   "execution_count": null,
   "id": "71753c76",
   "metadata": {},
   "outputs": [],
   "source": [
    "# Set random seed for reproducibility\n",
    "set_determinism(seed=0)\n",
    "\n",
    "# Define the data directories\n",
    "data_dir = '/path/to/data'\n",
    "train_images_dir = f'{data_dir}/train/images'\n",
    "train_labels_dir = f'{data_dir}/train/labels'\n",
    "val_images_dir = f'{data_dir}/val/images'\n",
    "val_labels_dir = f'{data_dir}/val/labels'\n",
    "\n",
    "# Define the transforms to apply to the data\n",
    "train_transforms = Compose([\n",
    "    LoadNifti(image_only=True),\n",
    "    AddChannel(),\n",
    "    Spacing((1.0, 1.0, 1.0)),\n",
    "    ScaleIntensity(),\n",
    "    RandCropByPosNegLabel(\n",
    "        label_key='label',\n",
    "        size=(96, 96, 96),\n",
    "        pos=1,\n",
    "        neg=1,\n",
    "        num_samples=4,\n",
    "        image_key='image',\n",
    "        image_threshold=0,\n",
    "    ),\n",
    "    RandRotate(range_x=10.0, range_y=10.0, range_z=10.0, prob=0.5, keep_size=True),\n",
    "    RandZoom(min_zoom=0.9, max_zoom=1.1, prob=0.5, keep_size=True),\n",
    "    ToTensor(),\n",
    "])\n",
    "\n",
    "val_transforms = Compose([\n",
    "    LoadNifti(image_only=True),\n",
    "    AddChannel(),\n",
    "    Spacing((1.0, 1.0, 1.0)),\n",
    "    ScaleIntensity(),\n",
    "    ToTensor(),\n",
    "])\n",
    "\n",
    "# Define the training and validation datasets\n",
    "train_ds = CacheDataset(data=train_images_dir, labels=train_labels_dir, transform=train_transforms, cache_rate=1.0, num_workers=4)\n",
    "val_ds = CacheDataset(data=val_images_dir, labels=val_labels_dir, transform=val_transforms, cache_rate=1.0, num_workers=4)\n",
    "\n",
    "# Define the data loaders\n",
    "batch_size = 4\n",
    "train_loader = DataLoader(train_ds, batch_size=batch_size, shuffle=True, num_workers=4, pin_memory=torch.cuda.is_available())\n",
    "val_loader = DataLoader(val_ds, batch_size=1, num_workers=4, pin_memory=torch.cuda.is_available())\n",
    "\n",
    "# Define the device to run the model on\n",
    "device = torch.device('cuda' if torch.cuda.is_available() else 'cpu')\n",
    "\n",
    "# Define the model, loss function, and metrics\n",
    "model = SegResNet(\n",
    "    spatial_dims=3,\n",
    "    in_channels=1,\n",
    "    out_channels=2,\n",
    "    dropout_prob=0.5,\n",
    "    res_units=2,\n",
    ")\n",
    "model.to(device)\n",
    "loss_function = DiceLoss(to_onehot_y=True, softmax=True)\n",
    "metric = DiceMetric(include_background=True, reduction='mean')\n",
    "\n",
    "# Define the optimizer and learning rate scheduler\n",
    "optimizer = torch.optim.Adam(model.parameters(), 1e-3)\n",
    "lr_scheduler = torch.optim.lr_scheduler.StepLR(optimizer, step_size=50, gamma=0.1)\n",
    "\n",
    "# Train the model\n",
    "max_epochs = 100"
   ]
  },
  {
   "cell_type": "code",
   "execution_count": null,
   "id": "be4898c5",
   "metadata": {},
   "outputs": [],
   "source": []
  }
 ],
 "metadata": {
  "kernelspec": {
   "display_name": "Python 3 (ipykernel)",
   "language": "python",
   "name": "python3"
  },
  "language_info": {
   "codemirror_mode": {
    "name": "ipython",
    "version": 3
   },
   "file_extension": ".py",
   "mimetype": "text/x-python",
   "name": "python",
   "nbconvert_exporter": "python",
   "pygments_lexer": "ipython3",
   "version": "3.10.6"
  }
 },
 "nbformat": 4,
 "nbformat_minor": 5
}
