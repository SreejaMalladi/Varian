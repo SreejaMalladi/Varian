{
 "cells": [
  {
   "cell_type": "code",
   "execution_count": 3,
   "id": "c20530c1-1b83-4eb1-9400-4430c7c20e74",
   "metadata": {
    "tags": []
   },
   "outputs": [
    {
     "name": "stdout",
     "output_type": "stream",
     "text": [
      "\u001b[31mERROR: pip's dependency resolver does not currently take into account all the packages that are installed. This behaviour is the source of the following dependency conflicts.\n",
      "pytest-astropy 0.8.0 requires pytest-cov>=2.0, which is not installed.\n",
      "pytest-astropy 0.8.0 requires pytest-filter-subpackage>=0.1, which is not installed.\n",
      "spyder 4.0.1 requires pyqt5<5.13; python_version >= \"3\", which is not installed.\n",
      "spyder 4.0.1 requires pyqtwebengine<5.13; python_version >= \"3\", which is not installed.\n",
      "python-language-server 0.31.7 requires jedi<0.16,>=0.14.1, but you have jedi 0.18.2 which is incompatible.\n",
      "python-language-server 0.31.7 requires ujson<=1.35; platform_system != \"Windows\", but you have ujson 5.7.0 which is incompatible.\n",
      "sagemaker 2.165.0 requires importlib-metadata<5.0,>=1.4.0, but you have importlib-metadata 5.2.0 which is incompatible.\n",
      "sagemaker-data-insights 0.3.3 requires numpy>=1.21.6, but you have numpy 1.21.5 which is incompatible.\n",
      "sagemaker-datawrangler 0.4.3 requires sagemaker-data-insights==0.4.0, but you have sagemaker-data-insights 0.3.3 which is incompatible.\n",
      "sparkmagic 0.20.4 requires nest-asyncio==1.5.5, but you have nest-asyncio 1.5.6 which is incompatible.\n",
      "spyder 4.0.1 requires jedi==0.14.1, but you have jedi 0.18.2 which is incompatible.\u001b[0m\u001b[31m\n",
      "\u001b[0m\u001b[33mWARNING: Running pip as the 'root' user can result in broken permissions and conflicting behaviour with the system package manager. It is recommended to use a virtual environment instead: https://pip.pypa.io/warnings/venv\u001b[0m\u001b[33m\n",
      "\u001b[0mRequirement already satisfied: pandas in /opt/conda/lib/python3.7/site-packages (1.3.5)\n",
      "Requirement already satisfied: numpy in /opt/conda/lib/python3.7/site-packages (1.21.5)\n",
      "Collecting nibabel\n",
      "  Using cached nibabel-4.0.2-py3-none-any.whl (3.3 MB)\n",
      "Requirement already satisfied: tqdm in /opt/conda/lib/python3.7/site-packages (4.42.1)\n",
      "Requirement already satisfied: python-dateutil>=2.7.3 in /opt/conda/lib/python3.7/site-packages (from pandas) (2.8.2)\n",
      "Requirement already satisfied: pytz>=2017.3 in /opt/conda/lib/python3.7/site-packages (from pandas) (2019.3)\n",
      "Requirement already satisfied: packaging>=17.0 in /opt/conda/lib/python3.7/site-packages (from nibabel) (20.1)\n",
      "Requirement already satisfied: setuptools in /opt/conda/lib/python3.7/site-packages (from nibabel) (65.5.1)\n",
      "Requirement already satisfied: pyparsing>=2.0.2 in /opt/conda/lib/python3.7/site-packages (from packaging>=17.0->nibabel) (2.4.6)\n",
      "Requirement already satisfied: six in /opt/conda/lib/python3.7/site-packages (from packaging>=17.0->nibabel) (1.14.0)\n",
      "Installing collected packages: nibabel\n",
      "Successfully installed nibabel-4.0.2\n",
      "\u001b[33mWARNING: Running pip as the 'root' user can result in broken permissions and conflicting behaviour with the system package manager. It is recommended to use a virtual environment instead: https://pip.pypa.io/warnings/venv\u001b[0m\u001b[33m\n",
      "\u001b[0m"
     ]
    }
   ],
   "source": [
    "!pip -q install monai gdown einops mlflow pynrrd torchinfo \n",
    "!pip install pandas numpy nibabel tqdm\n",
    "!python -c \"import monai\" || pip install -q \"monai-weekly[gdown, nibabel, tqdm, ignite]\"\n",
    "!python -c \"import matplotlib\" || pip install -q matplotlib\n",
    "%matplotlib inline"
   ]
  },
  {
   "cell_type": "code",
   "execution_count": 2,
   "id": "48540bbc",
   "metadata": {
    "ExecuteTime": {
     "end_time": "2023-04-24T10:25:40.220100Z",
     "start_time": "2023-04-24T10:25:39.312831Z"
    },
    "tags": []
   },
   "outputs": [],
   "source": [
    "import os\n",
    "from glob import glob\n",
    "import shutil\n",
    "import tempfile\n",
    "import time\n",
    "import warnings\n",
    "import torch\n",
    "import numpy as np\n",
    "import pandas as pd\n",
    "import nibabel as nib\n",
    "from pathlib import Path\n",
    "from collections.abc import Callable, Sequence, Hashable\n",
    "from typing import Mapping,Dict\n",
    "import matplotlib.pyplot as plt\n",
    "\n",
    "from monai.transforms import (\n",
    "    EnsureType,\n",
    "    FillHoles,\n",
    "    OneOf,\n",
    "    SpatialCropd,\n",
    "    Activations,\n",
    "    Activationsd,\n",
    "    ConcatItemsd,\n",
    "    AsDiscrete,\n",
    "    AsDiscreted,\n",
    "    Compose,\n",
    "    Invertd,\n",
    "    LoadImaged,\n",
    "    MapTransform,\n",
    "    RandAffined,\n",
    "    NormalizeIntensityd,\n",
    "    ToTensord,\n",
    "    EnsureChannelFirstd ,\n",
    "    Orientationd,\n",
    "    Spacingd,\n",
    "    ScaleIntensityRanged,\n",
    "    CropForegroundd,\n",
    "    NormalizeIntensityd,\n",
    "    Resized,\n",
    "    SaveImaged,\n",
    "    RandScaleIntensityd,\n",
    "    RandShiftIntensityd,\n",
    "    RandSpatialCropd,\n",
    "    RandSpatialCropSamplesd,\n",
    "    RandFlipd,\n",
    "    RandRotated,\n",
    "    EnsureTyped,\n",
    "    ScaleIntensityd,\n",
    "    RandCropByPosNegLabeld,\n",
    ")\n",
    "\n",
    "from monai.handlers.utils import from_engine\n",
    "from monai.losses import DiceLoss, DiceCELoss\n",
    "from monai.inferers import sliding_window_inference\n",
    "from monai.metrics import DiceMetric, HausdorffDistanceMetric\n",
    "from monai.networks.nets import SegResNet\n",
    "from monai.data import Dataset, DataLoader, CacheDataset, decollate_batch\n",
    "from monai.utils import first\n",
    "from monai.utils import set_determinism\n",
    "from monai.config import print_config\n",
    "from monai.data.meta_tensor import MetaTensor\n",
    "from monai.config.type_definitions import NdarrayOrTensor\n",
    "from monai.utils.misc import ImageMetaKey"
   ]
  },
  {
   "cell_type": "code",
   "execution_count": 3,
   "id": "b41725e7",
   "metadata": {
    "ExecuteTime": {
     "end_time": "2023-04-24T10:26:45.363776Z",
     "start_time": "2023-04-24T10:26:45.358478Z"
    },
    "tags": []
   },
   "outputs": [],
   "source": [
    "set_determinism(seed=123)"
   ]
  },
  {
   "cell_type": "code",
   "execution_count": 18,
   "id": "9f9aaed0",
   "metadata": {
    "ExecuteTime": {
     "end_time": "2023-04-24T10:26:46.788322Z",
     "start_time": "2023-04-24T10:26:46.785246Z"
    },
    "tags": []
   },
   "outputs": [],
   "source": [
    "root_dir = 'model_data'\n",
    "data_dir = 'data'\n",
    "\n",
    "train_images_ct = sorted(glob(os.path.join(data_dir, 'TrainData', '*_CT.nii.gz')))\n",
    "train_images_pt = sorted(glob(os.path.join(data_dir, 'TrainData', '*_PT.nii.gz')))\n",
    "train_labels = sorted(glob(os.path.join(data_dir, 'TrainLabels', '*.nii.gz')))\n",
    "train_files = [{\"image\": image_name, \"image2\": pet_image, 'label': label_name} for image_name, pet_image, label_name in zip(train_images_ct, train_images_pt, train_labels)]\n",
    "\n",
    "val_images_ct = sorted(glob(os.path.join(data_dir, 'ValData', '*_CT.nii.gz')))\n",
    "val_images_pt = sorted(glob(os.path.join(data_dir, 'ValData', '*_PT.nii.gz')))\n",
    "val_labels = sorted(glob(os.path.join(data_dir, 'ValLabels', '*.nii.gz')))\n",
    "val_files = [{\"image\": image_name, \"image2\": pet_image, 'label': label_name} for image_name, pet_image, label_name in zip(val_images_ct, val_images_pt, val_labels)]"
   ]
  },
  {
   "cell_type": "code",
   "execution_count": 5,
   "id": "b4397133",
   "metadata": {
    "ExecuteTime": {
     "end_time": "2023-04-24T10:26:48.808760Z",
     "start_time": "2023-04-24T10:26:48.805574Z"
    },
    "tags": []
   },
   "outputs": [
    {
     "name": "stdout",
     "output_type": "stream",
     "text": [
      "[{'image': 'data/TrainData/CHUM-001__CT.nii.gz', 'image2': 'data/TrainData/CHUM-001__PT.nii.gz', 'label': 'data/TrainLabels/CHUM-001.nii.gz'}, {'image': 'data/TrainData/CHUM-002__CT.nii.gz', 'image2': 'data/TrainData/CHUM-002__PT.nii.gz', 'label': 'data/TrainLabels/CHUM-002.nii.gz'}, {'image': 'data/TrainData/CHUM-006__CT.nii.gz', 'image2': 'data/TrainData/CHUM-006__PT.nii.gz', 'label': 'data/TrainLabels/CHUM-006.nii.gz'}, {'image': 'data/TrainData/CHUM-007__CT.nii.gz', 'image2': 'data/TrainData/CHUM-007__PT.nii.gz', 'label': 'data/TrainLabels/CHUM-007.nii.gz'}, {'image': 'data/TrainData/CHUM-008__CT.nii.gz', 'image2': 'data/TrainData/CHUM-008__PT.nii.gz', 'label': 'data/TrainLabels/CHUM-008.nii.gz'}, {'image': 'data/TrainData/CHUM-013__CT.nii.gz', 'image2': 'data/TrainData/CHUM-013__PT.nii.gz', 'label': 'data/TrainLabels/CHUM-013.nii.gz'}, {'image': 'data/TrainData/CHUM-014__CT.nii.gz', 'image2': 'data/TrainData/CHUM-014__PT.nii.gz', 'label': 'data/TrainLabels/CHUM-014-Copy1.nii.gz'}]\n",
      "[{'image': 'data/ValData/CHUM-010__CT.nii.gz', 'image2': 'data/ValData/CHUM-010__PT.nii.gz', 'label': 'data/ValLabels/CHUM-010.nii.gz'}, {'image': 'data/ValData/CHUM-011__CT.nii.gz', 'image2': 'data/ValData/CHUM-011__PT.nii.gz', 'label': 'data/ValLabels/CHUM-011.nii.gz'}, {'image': 'data/ValData/CHUM-012__CT.nii.gz', 'image2': 'data/ValData/CHUM-012__PT.nii.gz', 'label': 'data/ValLabels/CHUM-012.nii.gz'}]\n"
     ]
    }
   ],
   "source": [
    "print(train_files)\n",
    "print(val_files)\n",
    "# print(test_files)"
   ]
  },
  {
   "cell_type": "code",
   "execution_count": 6,
   "id": "e17a5165-5a46-4a4e-ab2d-033be82976fa",
   "metadata": {
    "tags": []
   },
   "outputs": [
    {
     "data": {
      "text/plain": [
       "[{'image': 'data/TrainData/CHUM-006__CT.nii.gz',\n",
       "  'image2': 'data/TrainData/CHUM-006__PT.nii.gz',\n",
       "  'label': 'data/TrainLabels/CHUM-006.nii.gz'}]"
      ]
     },
     "execution_count": 6,
     "metadata": {},
     "output_type": "execute_result"
    }
   ],
   "source": [
    "va_files = []\n",
    "# va_files.append(val_files[0])\n",
    "va_files.append(train_files[2])\n",
    "va_files"
   ]
  },
  {
   "cell_type": "code",
   "execution_count": 7,
   "id": "24b02c34-2f3b-4ee9-9e05-1bd06794c483",
   "metadata": {
    "tags": []
   },
   "outputs": [
    {
     "data": {
      "text/plain": [
       "[{'image': 'data/TrainData/CHUM-006__CT.nii.gz',\n",
       "  'image2': 'data/TrainData/CHUM-006__PT.nii.gz',\n",
       "  'label': 'data/TrainLabels/CHUM-006.nii.gz'},\n",
       " {'image': 'data/TrainData/CHUM-002__CT.nii.gz',\n",
       "  'image2': 'data/TrainData/CHUM-002__PT.nii.gz',\n",
       "  'label': 'data/TrainLabels/CHUM-002.nii.gz'}]"
      ]
     },
     "execution_count": 7,
     "metadata": {},
     "output_type": "execute_result"
    }
   ],
   "source": [
    "tfiles = []\n",
    "tfiles.append(train_files[2])\n",
    "tfiles.append(train_files[1])\n",
    "tfiles"
   ]
  },
  {
   "cell_type": "code",
   "execution_count": 8,
   "id": "ccc36e00",
   "metadata": {
    "ExecuteTime": {
     "end_time": "2023-04-24T10:28:37.813846Z",
     "start_time": "2023-04-24T10:28:37.769701Z"
    },
    "tags": []
   },
   "outputs": [],
   "source": [
    "class HecktorCropNeckRegion(CropForegroundd):\n",
    "    \"\"\"\n",
    "    A simple pre-processing transform to approximately crop the head and neck region based on a PET image.\n",
    "    This transform relies on several assumptions of patient orientation with a head location on the top,\n",
    "    and is specific for Hecktor22 dataset, and should not be used for an arbitrary PET image pre-processing.\n",
    "    \"\"\"\n",
    "\n",
    "    def __init__(\n",
    "        self,\n",
    "        keys=[\"image\", \"image2\", \"label\"],\n",
    "        source_key=\"image\",\n",
    "        box_size=[200, 200, 310],\n",
    "        allow_missing_keys=True,\n",
    "        **kwargs,\n",
    "    ) -> None:\n",
    "        super().__init__(keys=keys, source_key=source_key, allow_missing_keys=allow_missing_keys, **kwargs)\n",
    "        self.box_size = box_size\n",
    "\n",
    "    def __call__(self, data : Mapping[Hashable, torch.Tensor]) -> Dict[Hashable, torch.Tensor]:\n",
    "\n",
    "        d = dict(data)\n",
    "        im_pet = d[\"image2\"][0]\n",
    "        #print(im_pet)\n",
    "        box_size = np.array(self.box_size)  # H&N region to crop in mm , defaults to 200x200x310mm\n",
    "        filename = \"\"\n",
    "\n",
    "        if isinstance(im_pet, MetaTensor):\n",
    "            filename = im_pet.meta[ImageMetaKey.FILENAME_OR_OBJ]\n",
    "            box_size = (box_size / np.array(im_pet.pixdim)).astype(int)  # compensate for resolution\n",
    "\n",
    "        box_start, box_end = self.extract_roi(im_pet=im_pet, box_size=box_size)\n",
    "        \n",
    "        if \"label\" in d and \"label\" in self.keys:\n",
    "            # if label mask is available, let's check if the cropped region includes all foreground\n",
    "            before_sum = d[\"label\"].sum().item()\n",
    "            after_sum = (\n",
    "                (d[\"label\"][0, box_start[0] : box_end[0], box_start[1] : box_end[1], box_start[2] : box_end[2]])\n",
    "                .sum()\n",
    "                .item()\n",
    "            )\n",
    "            if before_sum != after_sum:\n",
    "                print(\"WARNING, H&N crop could be incorrect!!!\", before_sum, after_sum)\n",
    "\n",
    "        d[self.start_coord_key] = box_start\n",
    "        d[self.end_coord_key] = box_end\n",
    "        \n",
    "        for key, m in self.key_iterator(d, self.mode): #question: what is mode in the iterators?\n",
    "            self.push_transform(d, key, extra_info={\"box_start\": box_start, \"box_end\": box_end})\n",
    "            d[key] = self.cropper.crop_pad(img=d[key], box_start=box_start, box_end=box_end, mode=m)\n",
    "        return d\n",
    "\n",
    "    def extract_roi(self, im_pet, box_size):\n",
    "\n",
    "        crop_len = int(0.75 * im_pet.shape[2])\n",
    "        im = im_pet[..., crop_len:]\n",
    "\n",
    "        mask = ((im - im.mean()) / im.std()) > 1\n",
    "        comp_idx = torch.argwhere(mask)\n",
    "        center = torch.mean(comp_idx.float(), dim=0).cpu().int().numpy()\n",
    "        xmin = torch.min(comp_idx, dim=0).values.cpu().int().numpy()\n",
    "        xmax = torch.max(comp_idx, dim=0).values.cpu().int().numpy()\n",
    "\n",
    "        xmin[:2] = center[:2] - box_size[:2] // 2\n",
    "        xmax[:2] = center[:2] + box_size[:2] // 2\n",
    "\n",
    "        xmax[2] = xmax[2] + crop_len\n",
    "        xmin[2] = max(0, xmax[2] - box_size[2])\n",
    "\n",
    "        return xmin.astype(int), xmax.astype(int)"
   ]
  },
  {
   "cell_type": "code",
   "execution_count": 9,
   "id": "9149b292-cb82-4404-8aef-d3bc4ae16196",
   "metadata": {
    "tags": []
   },
   "outputs": [],
   "source": [
    " class CalculateCentreOfMass(CropForegroundd):\n",
    "        def __init__(self, keys=[\"image\", \"image2\", \"label\"], source_key=\"image\", **kwargs):\n",
    "            super().__init__(keys=keys, source_key=source_key, **kwargs)\n",
    "        def __call__(self, data : Mapping[Hashable, torch.Tensor]):\n",
    "            d = dict(data)\n",
    "            #img_pet = d[\"image2\"][0]\n",
    "            #img_nib = img_pet #nib.load(\"C:/Users/Julia Scott/Documents/Varian_2022/Hecktor2022/Hecktor_test/data\\\\TrainData\\\\CHUM-007__PT.nii.gz\")\n",
    "            #image = img_nib\n",
    "            def CalculateCenterOfMass():\n",
    "                image_tensor = d[\"image2\"][0]\n",
    "                meshgrid = torch.meshgrid([torch.arange(image_size) for image_size in image_tensor.shape])\n",
    "                center_of_mass = torch.stack([torch.sum(image_tensor * meshgrid[dim]) / torch.sum(image_tensor) for dim in range(3)])\n",
    "                return center_of_mass.tolist()\n",
    "            SpatialCropd(keys=[\"image\", \"image2\", \"label\"],roi_center = CalculateCenterOfMass(), roi_size=[192, 192, 192])\n",
    "            return d"
   ]
  },
  {
   "cell_type": "code",
   "execution_count": 23,
   "id": "166022f6-5970-4b3e-929c-2517a2c119e4",
   "metadata": {
    "tags": []
   },
   "outputs": [],
   "source": [
    "class ConvertToMultiChannelBasedOnClassesd(MapTransform):\n",
    "    def __call__(self, data):\n",
    "        d = dict(data)\n",
    "        for key in self.keys:\n",
    "            result = []\n",
    "            result.append(d[key] == 1)\n",
    "            result.append(d[key] == 2)\n",
    "            result.append(d[key] == 3)\n",
    "            d[key] = torch.stack(result, axis=0).float()\n",
    "        return d"
   ]
  },
  {
   "cell_type": "code",
   "execution_count": 34,
   "id": "dbf93e83-b29a-4de3-b454-2c298763c2d3",
   "metadata": {
    "tags": []
   },
   "outputs": [],
   "source": [
    "# device = torch.device(\"cuda:0\")\n",
    "train_transforms = Compose(\n",
    "    [\n",
    "        LoadImaged(keys=['image', 'image2', 'label']),\n",
    "        EnsureChannelFirstd(keys = ['image', 'image2']),\n",
    "        EnsureTyped(keys=[\"image\", 'image2', \"label\"]),\n",
    "        Spacingd(\n",
    "            keys=[\"image\", 'image2'],\n",
    "            pixdim=(1.0, 1.0, 1.0),\n",
    "            mode=(\"bilinear\", \"nearest\"),\n",
    "        ),\n",
    "        ConvertToMultiChannelBasedOnClassesd(keys='label'),\n",
    "        HecktorCropNeckRegion(keys=[\"image\", 'image2', \"label\"], source_key=\"image\"),\n",
    "        # CalculateCentreOfMass(keys=[\"image\", \"image2\", \"label\"], source_key=\"image\"),\n",
    "        Orientationd(keys=[\"image\", \"image2\"], axcodes=\"RAS\"),\n",
    "        # RandSpatialCropd(keys=[\"image\", 'image2', \"label\"], roi_size=[192, 192, 192], random_size=False),\n",
    "        ScaleIntensityd(keys=[\"image\", \"image2\"], minv=0.0, maxv=1.0),\n",
    "        NormalizeIntensityd(keys=\"image\", nonzero=True, channel_wise=True),\n",
    "        NormalizeIntensityd(keys=\"image2\", nonzero=True, channel_wise=True),\n",
    "        RandFlipd(keys=[\"image\", \"image2\", \"label\"], prob=0.5, spatial_axis=0),\n",
    "        RandFlipd(keys=[\"image\", \"image2\", \"label\"], prob=0.5, spatial_axis=1),\n",
    "        RandFlipd(keys=[\"image\", \"image2\", \"label\"], prob=0.5, spatial_axis=2),\n",
    "        ConcatItemsd(keys=[\"image\", \"image2\"], name=\"image_petct\", dim=0),\n",
    "        # RandScaleIntensityd(keys=\"image\", factors=0.1, prob=1.0),\n",
    "        # RandRotated(keys=[\"image\", \"image2\", \"label\"], prob = 0.5),\n",
    "        \n",
    "        \n",
    "        # SaveImaged(\n",
    "        # keys = ['image', 'image2', 'label'],\n",
    "        # output_dir='data/output',\n",
    "        # output_postfix=\"crop\",\n",
    "        # resample=False,\n",
    "        # output_dtype=np.int16,\n",
    "        # separate_folder=False,\n",
    "        # )\n",
    "    ]\n",
    ")\n",
    "val_transforms = Compose(\n",
    "    [\n",
    "        LoadImaged(keys=['image', 'image2', 'label']),\n",
    "        EnsureChannelFirstd(keys = ['image', 'image2', 'label']),\n",
    "        EnsureTyped(keys=[\"image\", 'image2', \"label\"]),\n",
    "        Spacingd(\n",
    "            keys=[\"image\", 'image2'],\n",
    "            pixdim=(1.0, 1.0, 1.0),\n",
    "            mode=(\"bilinear\", \"nearest\"),\n",
    "        ),\n",
    "        HecktorCropNeckRegion(keys=[\"image\", 'image2', \"label\"], source_key=\"image\"),\n",
    "        # CalculateCentreOfMass(keys=[\"image\", \"image2\", \"label\"], source_key=\"image\"),\n",
    "        # ConvertToMultiChannelBasedOnClassesd(keys='label'),\n",
    "        Orientationd(keys=[\"image\", \"image2\"], axcodes=\"RAS\"),\n",
    "        \n",
    "        # RandSpatialCropd(keys=[\"image\", 'image2', \"label\"], roi_size=[192, 192, 192], random_size=False),\n",
    "        ScaleIntensityd(keys=[\"image\", \"image2\"], minv=0.0, maxv=1.0),\n",
    "        NormalizeIntensityd(keys=\"image\", nonzero=True, channel_wise=True),\n",
    "        NormalizeIntensityd(keys=\"image2\", nonzero=True, channel_wise=True),\n",
    "        ConcatItemsd(keys=[\"image\", \"image2\"], name=\"image_petct\", dim=0),\n",
    "        \n",
    "        # ScaleIntensityRanged(\n",
    "        #     keys=[\"image\"], a_min=-57, a_max=164,\n",
    "        #     b_min=0.0, b_max=1.0, clip=True,\n",
    "        # ),\n",
    "    ]\n",
    ")\n",
    "\n",
    "original_transforms = Compose(\n",
    "    [\n",
    "         LoadImaged(keys=['image', 'image2', 'label']),\n",
    "         EnsureChannelFirstd(['image', 'image2', 'label']),\n",
    "\n",
    "    ]\n",
    ")"
   ]
  },
  {
   "cell_type": "code",
   "execution_count": 35,
   "id": "5acc8078-9698-48ce-a997-2630ed5c49d1",
   "metadata": {
    "tags": []
   },
   "outputs": [
    {
     "name": "stdout",
     "output_type": "stream",
     "text": [
      "WARNING, H&N crop could be incorrect!!! 10121.0 2720.0\n",
      "torch.Size([1, 2, 200, 200, 310])\n",
      "torch.Size([1, 3, 200, 200, 310])\n",
      "image shape: torch.Size([200, 200, 310]), label shape: torch.Size([200, 200, 310])\n"
     ]
    }
   ],
   "source": [
    "check_ds = Dataset(data=tfiles, transform=train_transforms)\n",
    "# check_data = check_ds[0]\n",
    "check_loader = DataLoader(check_ds, batch_size=1)\n",
    "for check_data in check_loader:\n",
    "    print(check_data['image_petct'].shape)\n",
    "    # print(check_data['image2'].shape)\n",
    "    print(check_data['label'].shape)\n",
    "    break\n",
    "image, label = (check_data[\"image_petct\"][0][0], check_data[\"label\"][0][0])\n",
    "print(f\"image shape: {image.shape}, label shape: {label.shape}\")"
   ]
  },
  {
   "cell_type": "code",
   "execution_count": 36,
   "id": "d7d546ad-f27d-4111-8e16-219d23778fba",
   "metadata": {
    "tags": []
   },
   "outputs": [
    {
     "name": "stdout",
     "output_type": "stream",
     "text": [
      "image shape: torch.Size([200, 200, 310]), label shape: torch.Size([200, 200, 310])\n"
     ]
    },
    {
     "data": {
      "image/png": "[encoded data removed]",
      "text/plain": [
       "<Figure size 1200x600 with 2 Axes>"
      ]
     },
     "metadata": {},
     "output_type": "display_data"
    },
    {
     "data": {
      "image/png": "[encoded data removed]",
      "text/plain": [
       "<Figure size 1800x600 with 3 Axes>"
      ]
     },
     "metadata": {},
     "output_type": "display_data"
    }
   ],
   "source": [
    "# check_data = check_ds[1]\n",
    "# image, label = (check_data[\"image_petct\"][0], check_data[\"label\"][0])\n",
    "print(f\"image shape: {image.shape}, label shape: {label.shape}\")\n",
    "plt.figure(\"image_petct\", (12, 6))\n",
    "for i in range(2):\n",
    "    plt.subplot(1, 2, i + 1)\n",
    "    plt.title(f\"image channel {i}\")\n",
    "    plt.imshow(check_data[\"image_petct\"][0][i, :, :, 150].detach().cpu())\n",
    "plt.show()\n",
    "# plt.figure(\"image2\", (12, 6))\n",
    "# for i in range(1):\n",
    "#     plt.subplot(1, 2, i + 1)\n",
    "#     plt.title(f\"label channel {i}\")\n",
    "#     plt.imshow(check_data[\"image2\"][0][i, :, :, 150].detach().cpu())\n",
    "# plt.show()\n",
    "plt.figure(\"label\", (18, 6))\n",
    "for i in range(3):\n",
    "    plt.subplot(1, 3, i + 1)\n",
    "    plt.title(f\"label channel {i}\")\n",
    "    plt.imshow(check_data[\"label\"][0][i, :, :, 150].detach().cpu())\n",
    "plt.show()"
   ]
  },
  {
   "cell_type": "code",
   "execution_count": 37,
   "id": "2b7c8de0",
   "metadata": {
    "ExecuteTime": {
     "end_time": "2023-04-24T10:29:22.858104Z",
     "start_time": "2023-04-24T10:29:22.854223Z"
    },
    "tags": []
   },
   "outputs": [
    {
     "name": "stderr",
     "output_type": "stream",
     "text": [
      "/opt/conda/lib/python3.7/site-packages/monai/data/dataset.py:867: UserWarning: tqdm is not installed, will not show the caching progress bar.\n",
      "  warnings.warn(\"tqdm is not installed, will not show the caching progress bar.\")\n"
     ]
    },
    {
     "name": "stdout",
     "output_type": "stream",
     "text": [
      "WARNING, H&N crop could be incorrect!!! 3992.0 3606.0\n",
      "WARNING, H&N crop could be incorrect!!! 10121.0 2720.0\n"
     ]
    }
   ],
   "source": [
    "train_ds = CacheDataset(data=tfiles, transform=train_transforms, cache_rate=1.0, num_workers=4)\n",
    "train_loader = DataLoader(train_ds, batch_size=1, shuffle=True, num_workers=4)"
   ]
  },
  {
   "cell_type": "code",
   "execution_count": null,
   "id": "be02ad2c-6a91-4452-a5ea-5157c35cbb53",
   "metadata": {
    "tags": []
   },
   "outputs": [],
   "source": [
    "orig_ds = Dataset(data=tfiles, transform=original_transforms)\n",
    "print(orig_ds[0]['image'].shape)\n",
    "print(orig_ds[0]['image2'].shape)\n",
    "print(orig_ds[0]['label'].shape)"
   ]
  },
  {
   "cell_type": "code",
   "execution_count": 14,
   "id": "74b4bcb2-ef10-4c2c-bfff-b039fa8fdd18",
   "metadata": {
    "tags": []
   },
   "outputs": [
    {
     "name": "stdout",
     "output_type": "stream",
     "text": [
      "torch.Size([1, 1, 192, 192, 192])\n",
      "torch.Size([1, 1, 192, 192, 192])\n",
      "torch.Size([1, 1, 192, 192, 192])\n",
      "torch.Size([1, 1, 192, 192, 192])\n"
     ]
    }
   ],
   "source": [
    "# print(train_ds[0]['image'].shape)\n",
    "# print(train_ds[0]['image2'].shape)\n",
    "# print(train_ds[0]['label'].shape)\n",
    "# print(train_ds[1]['image'].shape)\n",
    "# print(train_ds[1]['image2'].shape)\n",
    "# print(train_ds[1]['label'].shape)\n",
    "for data in train_loader:\n",
    "    print(data['image'].shape)\n",
    "    print(data['label'].shape)"
   ]
  },
  {
   "cell_type": "code",
   "execution_count": null,
   "id": "54527be0-ddc2-4a8f-9e80-184ce71f42ed",
   "metadata": {
    "tags": []
   },
   "outputs": [],
   "source": [
    "val_ds = CacheDataset(data=tfiles, transform=val_transforms, cache_rate=1.0, num_workers=4)\n",
    "val_loader = DataLoader(val_ds, batch_size=1, num_workers=4)"
   ]
  },
  {
   "cell_type": "code",
   "execution_count": 13,
   "id": "615da398-c8a9-4dc6-91bc-c4852fe394b7",
   "metadata": {
    "tags": []
   },
   "outputs": [
    {
     "name": "stdout",
     "output_type": "stream",
     "text": [
      "torch.Size([1, 2, 192, 192, 192])\n",
      "torch.Size([1, 1, 192, 192, 192])\n",
      "torch.Size([1, 2, 192, 192, 192])\n",
      "torch.Size([1, 1, 192, 192, 192])\n"
     ]
    }
   ],
   "source": [
    "# print(val_ds[0]['image'].shape)\n",
    "# print(val_ds[0]['image2'].shape)\n",
    "# print(val_ds[0]['label'].shape)\n",
    "# image = first(val_loader)\n",
    "# image['image'].shape\n",
    "# val_ds[0]['image'].meta[ImageMetaKey.FILENAME_OR_OBJ]\n",
    "for data in val_loader:\n",
    "    print(data['image_petct'].shape)\n",
    "    print(data['label'].shape)"
   ]
  },
  {
   "cell_type": "code",
   "execution_count": 14,
   "id": "061fcb5d-efb6-439d-9959-a2340b271d2a",
   "metadata": {
    "tags": []
   },
   "outputs": [],
   "source": [
    "max_epochs = 2\n",
    "val_interval = 1\n",
    "VAL_AMP = True\n",
    "\n",
    "# standard PyTorch program style: create SegResNet, DiceLoss and Adam optimizer\n",
    "device = torch.device(\"cuda:0\")\n",
    "model = SegResNet(\n",
    "    blocks_down=[1, 2, 2, 4],\n",
    "    blocks_up=[1, 1, 1],\n",
    "    init_filters=16,\n",
    "    in_channels=2,\n",
    "    out_channels=3,\n",
    "    dropout_prob=0.2,\n",
    ").to(device)\n",
    "loss_function = DiceLoss(smooth_nr=0, smooth_dr=1e-5, squared_pred=True, to_onehot_y=False, sigmoid=True)\n",
    "optimizer = torch.optim.Adam(model.parameters(), 1e-4, weight_decay=1e-5)\n",
    "lr_scheduler = torch.optim.lr_scheduler.CosineAnnealingLR(optimizer, T_max=max_epochs)\n",
    "\n",
    "dice_metric = DiceMetric(include_background=True, reduction=\"mean\")\n",
    "# dice_metric_batch = DiceMetric(include_background=True, reduction=\"mean_batch\")\n",
    "\n",
    "post_trans = Compose([Activations(sigmoid=True), AsDiscrete(threshold=0.5)])\n",
    "\n",
    "\n",
    "# define inference method\n",
    "def inference(input):\n",
    "    def _compute(input):\n",
    "        return sliding_window_inference(\n",
    "            inputs=input,\n",
    "            roi_size=(192, 192, 192),\n",
    "            sw_batch_size=1,\n",
    "            predictor=model,\n",
    "            overlap=0.5,\n",
    "        )\n",
    "\n",
    "    if VAL_AMP:\n",
    "        with torch.cuda.amp.autocast():\n",
    "            return _compute(input)\n",
    "    else:\n",
    "        return _compute(input)\n",
    "\n",
    "\n",
    "# use amp to accelerate training\n",
    "scaler = torch.cuda.amp.GradScaler()\n",
    "# enable cuDNN benchmark\n",
    "torch.backends.cudnn.benchmark = True"
   ]
  },
  {
   "cell_type": "code",
   "execution_count": null,
   "id": "0d501480-735c-4e84-a099-4ca5b724ceda",
   "metadata": {
    "tags": []
   },
   "outputs": [],
   "source": [
    "torch.cuda.empty_cache()"
   ]
  },
  {
   "cell_type": "code",
   "execution_count": 17,
   "id": "41993181-1ac7-4e94-9ee5-c4faeec79008",
   "metadata": {
    "tags": []
   },
   "outputs": [
    {
     "name": "stdout",
     "output_type": "stream",
     "text": [
      "Wed Jun 21 17:42:16 2023       \n",
      "+-----------------------------------------------------------------------------+\n",
      "| NVIDIA-SMI 470.57.02    Driver Version: 470.57.02    CUDA Version: 11.4     |\n",
      "|-------------------------------+----------------------+----------------------+\n",
      "| GPU  Name        Persistence-M| Bus-Id        Disp.A | Volatile Uncorr. ECC |\n",
      "| Fan  Temp  Perf  Pwr:Usage/Cap|         Memory-Usage | GPU-Util  Compute M. |\n",
      "|                               |                      |               MIG M. |\n",
      "|===============================+======================+======================|\n",
      "|   0  Tesla T4            Off  | 00000000:00:1E.0 Off |                    0 |\n",
      "| N/A   32C    P0    25W /  70W |  11994MiB / 15109MiB |      0%      Default |\n",
      "|                               |                      |                  N/A |\n",
      "+-------------------------------+----------------------+----------------------+\n",
      "                                                                               \n",
      "+-----------------------------------------------------------------------------+\n",
      "| Processes:                                                                  |\n",
      "|  GPU   GI   CI        PID   Type   Process name                  GPU Memory |\n",
      "|        ID   ID                                                   Usage      |\n",
      "|=============================================================================|\n",
      "+-----------------------------------------------------------------------------+\n"
     ]
    }
   ],
   "source": [
    "!nvidia-smi"
   ]
  },
  {
   "cell_type": "code",
   "execution_count": 19,
   "id": "a0913d2d-8d44-42ce-af21-1f5d23a3acc7",
   "metadata": {
    "tags": []
   },
   "outputs": [
    {
     "name": "stdout",
     "output_type": "stream",
     "text": [
      "----------\n",
      "epoch 1/2\n",
      "torch.Size([1, 2, 192, 192, 192])\n",
      "torch.Size([1, 1, 192, 192, 192])\n",
      "1/2, train_loss: 0.9974, step time: 0.9961\n",
      "torch.Size([1, 2, 192, 192, 192])\n",
      "torch.Size([1, 1, 192, 192, 192])\n",
      "2/2, train_loss: 0.9862, step time: 0.9143\n",
      "epoch 1 average loss: 0.9918\n",
      "saved new best metric model\n",
      "current epoch: 1 current mean dice: 0.0204\n",
      "best mean dice: 0.0204 at epoch: 1\n",
      "time consuming of epoch 1 is: 7.7655\n",
      "----------\n",
      "epoch 2/2\n",
      "torch.Size([1, 2, 192, 192, 192])\n",
      "torch.Size([1, 1, 192, 192, 192])\n",
      "1/2, train_loss: 1.0000, step time: 0.9741\n",
      "torch.Size([1, 2, 192, 192, 192])\n",
      "torch.Size([1, 1, 192, 192, 192])\n",
      "2/2, train_loss: 0.9849, step time: 0.9192\n",
      "epoch 2 average loss: 0.9924\n",
      "current epoch: 2 current mean dice: 0.0202\n",
      "best mean dice: 0.0204 at epoch: 1\n",
      "time consuming of epoch 2 is: 7.6436\n"
     ]
    }
   ],
   "source": [
    "best_metric = -1\n",
    "best_metric_epoch = -1\n",
    "best_metrics_epochs_and_time = [[], [], []]\n",
    "epoch_loss_values = []\n",
    "metric_values = []\n",
    "metric_values_tc = []\n",
    "metric_values_wt = []\n",
    "metric_values_et = []\n",
    "\n",
    "total_start = time.time()\n",
    "for epoch in range(max_epochs):\n",
    "    epoch_start = time.time()\n",
    "    print(\"-\" * 10)\n",
    "    print(f\"epoch {epoch + 1}/{max_epochs}\")\n",
    "    model.train()\n",
    "    epoch_loss = 0\n",
    "    step = 0\n",
    "    for batch_data in train_loader:\n",
    "        step_start = time.time()\n",
    "        step += 1\n",
    "        inputs, labels = (\n",
    "            batch_data[\"image_petct\"].to(device),\n",
    "            batch_data[\"label\"].to(device),\n",
    "        )\n",
    "        print(inputs.shape)\n",
    "        print(labels.shape)\n",
    "        optimizer.zero_grad()\n",
    "        with torch.cuda.amp.autocast():\n",
    "            outputs = model(inputs)\n",
    "            loss = loss_function(outputs, labels)\n",
    "        scaler.scale(loss).backward()\n",
    "        scaler.step(optimizer)\n",
    "        scaler.update()\n",
    "        epoch_loss += loss.item()\n",
    "        print(\n",
    "            f\"{step}/{len(train_ds) // train_loader.batch_size}\"\n",
    "            f\", train_loss: {loss.item():.4f}\"\n",
    "            f\", step time: {(time.time() - step_start):.4f}\"\n",
    "        )\n",
    "    lr_scheduler.step()\n",
    "    epoch_loss /= step\n",
    "    epoch_loss_values.append(epoch_loss)\n",
    "    print(f\"epoch {epoch + 1} average loss: {epoch_loss:.4f}\")\n",
    "\n",
    "    if (epoch + 1) % val_interval == 0:\n",
    "        model.eval()\n",
    "        with torch.no_grad():\n",
    "            for val_data in val_loader:\n",
    "                val_inputs, val_labels = (\n",
    "                    val_data[\"image_petct\"].to(device),\n",
    "                    val_data[\"label\"].to(device),\n",
    "                )\n",
    "                val_outputs = inference(val_inputs)\n",
    "                val_outputs = [post_trans(i) for i in decollate_batch(val_outputs)]\n",
    "                dice_metric(y_pred=val_outputs, y=val_labels)\n",
    "                # dice_metric_batch(y_pred=val_outputs, y=val_labels)\n",
    "\n",
    "            metric = dice_metric.aggregate().item()\n",
    "            metric_values.append(metric)\n",
    "            # metric_batch = dice_metric_batch.aggregate()\n",
    "            # metric_tc = metric_batch[0].item()\n",
    "            # metric_values_tc.append(metric_tc)\n",
    "            # metric_wt = metric_batch[1].item()\n",
    "            # metric_values_wt.append(metric_wt)\n",
    "            # metric_et = metric_batch[2].item()\n",
    "            # metric_values_et.append(metric_et)\n",
    "            dice_metric.reset()\n",
    "            # dice_metric_batch.reset()\n",
    "\n",
    "            if metric > best_metric:\n",
    "                best_metric = metric\n",
    "                best_metric_epoch = epoch + 1\n",
    "                best_metrics_epochs_and_time[0].append(best_metric)\n",
    "                best_metrics_epochs_and_time[1].append(best_metric_epoch)\n",
    "                best_metrics_epochs_and_time[2].append(time.time() - total_start)\n",
    "                torch.save(\n",
    "                    model.state_dict(),\n",
    "                    os.path.join(root_dir, \"best_metric_model.pth\"),\n",
    "                )\n",
    "                print(\"saved new best metric model\")\n",
    "            print(\n",
    "                f\"current epoch: {epoch + 1} current mean dice: {metric:.4f}\"\n",
    "                # f\" tc: {metric_tc:.4f} wt: {metric_wt:.4f} et: {metric_et:.4f}\"\n",
    "                f\"\\nbest mean dice: {best_metric:.4f}\"\n",
    "                f\" at epoch: {best_metric_epoch}\"\n",
    "            )\n",
    "    print(f\"time consuming of epoch {epoch + 1} is: {(time.time() - epoch_start):.4f}\")\n",
    "total_time = time.time() - total_start"
   ]
  },
  {
   "cell_type": "code",
   "execution_count": 20,
   "id": "0eee3ced-2f88-4b05-bf3b-5aa07e6d2fed",
   "metadata": {
    "tags": []
   },
   "outputs": [
    {
     "name": "stdout",
     "output_type": "stream",
     "text": [
      "train completed, best_metric: 0.0204 at epoch: 1, total time: 15.409924030303955.\n"
     ]
    }
   ],
   "source": [
    "print(f\"train completed, best_metric: {best_metric:.4f} at epoch: {best_metric_epoch}, total time: {total_time}.\")"
   ]
  },
  {
   "cell_type": "code",
   "execution_count": 21,
   "id": "6aa9629c-59d4-43a8-a2f9-703ea74c5864",
   "metadata": {
    "tags": []
   },
   "outputs": [
    {
     "data": {
      "image/png": "[encoded data removed]",
      "text/plain": [
       "<Figure size 1200x600 with 2 Axes>"
      ]
     },
     "metadata": {},
     "output_type": "display_data"
    }
   ],
   "source": [
    "plt.figure(\"train\", (12, 6))\n",
    "plt.subplot(1, 2, 1)\n",
    "plt.title(\"Epoch Average Loss\")\n",
    "x = [i + 1 for i in range(len(epoch_loss_values))]\n",
    "y = epoch_loss_values\n",
    "plt.xlabel(\"epoch\")\n",
    "plt.plot(x, y, color=\"red\")\n",
    "plt.subplot(1, 2, 2)\n",
    "plt.title(\"Val Mean Dice\")\n",
    "x = [val_interval * (i + 1) for i in range(len(metric_values))]\n",
    "y = metric_values\n",
    "plt.xlabel(\"epoch\")\n",
    "plt.plot(x, y, color=\"green\")\n",
    "plt.show()"
   ]
  },
  {
   "cell_type": "code",
   "execution_count": 22,
   "id": "f7395ebc-77dd-44ca-83de-91ba1e120485",
   "metadata": {
    "tags": []
   },
   "outputs": [
    {
     "data": {
      "image/png": "[encoded data removed]",
      "text/plain": [
       "<Figure size 1200x600 with 2 Axes>"
      ]
     },
     "metadata": {},
     "output_type": "display_data"
    },
    {
     "data": {
      "image/png": "[encoded data removed]",
      "text/plain": [
       "<Figure size 600x600 with 1 Axes>"
      ]
     },
     "metadata": {},
     "output_type": "display_data"
    },
    {
     "data": {
      "image/png": "[encoded data removed]",
      "text/plain": [
       "<Figure size 600x600 with 1 Axes>"
      ]
     },
     "metadata": {},
     "output_type": "display_data"
    }
   ],
   "source": [
    "model.load_state_dict(torch.load(os.path.join(root_dir, \"best_metric_model.pth\")))\n",
    "model.eval()\n",
    "with torch.no_grad():\n",
    "    # select one image to evaluate and visualize the model output\n",
    "    val_input = val_ds[1][\"image_petct\"].unsqueeze(0).to(device)\n",
    "    roi_size = (192, 192, 192)\n",
    "    sw_batch_size = 4\n",
    "    val_output = inference(val_input)\n",
    "    val_output = post_trans(val_output[0])\n",
    "    plt.figure(\"image\", (12, 6))\n",
    "    for i in range(2):\n",
    "        plt.subplot(1, 4, i + 1)\n",
    "        plt.title(f\"image channel {i}\")\n",
    "        plt.imshow(val_ds[1][\"image_petct\"][i, :, :, 70].detach().cpu(), cmap=\"gray\")\n",
    "    plt.show()\n",
    "    # visualize the 3 channels label corresponding to this image\n",
    "    plt.figure(\"label\", (6, 6))\n",
    "    for i in range(1):\n",
    "        plt.subplot(1, 3, i + 1)\n",
    "        plt.title(f\"label channel {i}\")\n",
    "        plt.imshow(val_ds[1][\"label\"][i, :, :, 70].detach().cpu())\n",
    "    plt.show()\n",
    "    # visualize the 3 channels model output corresponding to this image\n",
    "    plt.figure(\"output\", (6, 6))\n",
    "    for i in range(1):\n",
    "        plt.subplot(1, 3, i + 1)\n",
    "        plt.title(f\"output channel {i}\")\n",
    "        plt.imshow(val_output[i, :, :, 70].detach().cpu())\n",
    "    plt.show()"
   ]
  },
  {
   "cell_type": "code",
   "execution_count": null,
   "id": "cbddc962-ec58-414d-bdad-f2f0f644452b",
   "metadata": {},
   "outputs": [],
   "source": []
  }
 ],
 "metadata": {
  "availableInstances": [
   {
    "_defaultOrder": 0,
    "_isFastLaunch": true,
    "category": "General purpose",
    "gpuNum": 0,
    "hideHardwareSpecs": false,
    "memoryGiB": 4,
    "name": "ml.t3.medium",
    "vcpuNum": 2
   },
   {
    "_defaultOrder": 1,
    "_isFastLaunch": false,
    "category": "General purpose",
    "gpuNum": 0,
    "hideHardwareSpecs": false,
    "memoryGiB": 8,
    "name": "ml.t3.large",
    "vcpuNum": 2
   },
   {
    "_defaultOrder": 2,
    "_isFastLaunch": false,
    "category": "General purpose",
    "gpuNum": 0,
    "hideHardwareSpecs": false,
    "memoryGiB": 16,
    "name": "ml.t3.xlarge",
    "vcpuNum": 4
   },
   {
    "_defaultOrder": 3,
    "_isFastLaunch": false,
    "category": "General purpose",
    "gpuNum": 0,
    "hideHardwareSpecs": false,
    "memoryGiB": 32,
    "name": "ml.t3.2xlarge",
    "vcpuNum": 8
   },
   {
    "_defaultOrder": 4,
    "_isFastLaunch": true,
    "category": "General purpose",
    "gpuNum": 0,
    "hideHardwareSpecs": false,
    "memoryGiB": 8,
    "name": "ml.m5.large",
    "vcpuNum": 2
   },
   {
    "_defaultOrder": 5,
    "_isFastLaunch": false,
    "category": "General purpose",
    "gpuNum": 0,
    "hideHardwareSpecs": false,
    "memoryGiB": 16,
    "name": "ml.m5.xlarge",
    "vcpuNum": 4
   },
   {
    "_defaultOrder": 6,
    "_isFastLaunch": false,
    "category": "General purpose",
    "gpuNum": 0,
    "hideHardwareSpecs": false,
    "memoryGiB": 32,
    "name": "ml.m5.2xlarge",
    "vcpuNum": 8
   },
   {
    "_defaultOrder": 7,
    "_isFastLaunch": false,
    "category": "General purpose",
    "gpuNum": 0,
    "hideHardwareSpecs": false,
    "memoryGiB": 64,
    "name": "ml.m5.4xlarge",
    "vcpuNum": 16
   },
   {
    "_defaultOrder": 8,
    "_isFastLaunch": false,
    "category": "General purpose",
    "gpuNum": 0,
    "hideHardwareSpecs": false,
    "memoryGiB": 128,
    "name": "ml.m5.8xlarge",
    "vcpuNum": 32
   },
   {
    "_defaultOrder": 9,
    "_isFastLaunch": false,
    "category": "General purpose",
    "gpuNum": 0,
    "hideHardwareSpecs": false,
    "memoryGiB": 192,
    "name": "ml.m5.12xlarge",
    "vcpuNum": 48
   },
   {
    "_defaultOrder": 10,
    "_isFastLaunch": false,
    "category": "General purpose",
    "gpuNum": 0,
    "hideHardwareSpecs": false,
    "memoryGiB": 256,
    "name": "ml.m5.16xlarge",
    "vcpuNum": 64
   },
   {
    "_defaultOrder": 11,
    "_isFastLaunch": false,
    "category": "General purpose",
    "gpuNum": 0,
    "hideHardwareSpecs": false,
    "memoryGiB": 384,
    "name": "ml.m5.24xlarge",
    "vcpuNum": 96
   },
   {
    "_defaultOrder": 12,
    "_isFastLaunch": false,
    "category": "General purpose",
    "gpuNum": 0,
    "hideHardwareSpecs": false,
    "memoryGiB": 8,
    "name": "ml.m5d.large",
    "vcpuNum": 2
   },
   {
    "_defaultOrder": 13,
    "_isFastLaunch": false,
    "category": "General purpose",
    "gpuNum": 0,
    "hideHardwareSpecs": false,
    "memoryGiB": 16,
    "name": "ml.m5d.xlarge",
    "vcpuNum": 4
   },
   {
    "_defaultOrder": 14,
    "_isFastLaunch": false,
    "category": "General purpose",
    "gpuNum": 0,
    "hideHardwareSpecs": false,
    "memoryGiB": 32,
    "name": "ml.m5d.2xlarge",
    "vcpuNum": 8
   },
   {
    "_defaultOrder": 15,
    "_isFastLaunch": false,
    "category": "General purpose",
    "gpuNum": 0,
    "hideHardwareSpecs": false,
    "memoryGiB": 64,
    "name": "ml.m5d.4xlarge",
    "vcpuNum": 16
   },
   {
    "_defaultOrder": 16,
    "_isFastLaunch": false,
    "category": "General purpose",
    "gpuNum": 0,
    "hideHardwareSpecs": false,
    "memoryGiB": 128,
    "name": "ml.m5d.8xlarge",
    "vcpuNum": 32
   },
   {
    "_defaultOrder": 17,
    "_isFastLaunch": false,
    "category": "General purpose",
    "gpuNum": 0,
    "hideHardwareSpecs": false,
    "memoryGiB": 192,
    "name": "ml.m5d.12xlarge",
    "vcpuNum": 48
   },
   {
    "_defaultOrder": 18,
    "_isFastLaunch": false,
    "category": "General purpose",
    "gpuNum": 0,
    "hideHardwareSpecs": false,
    "memoryGiB": 256,
    "name": "ml.m5d.16xlarge",
    "vcpuNum": 64
   },
   {
    "_defaultOrder": 19,
    "_isFastLaunch": false,
    "category": "General purpose",
    "gpuNum": 0,
    "hideHardwareSpecs": false,
    "memoryGiB": 384,
    "name": "ml.m5d.24xlarge",
    "vcpuNum": 96
   },
   {
    "_defaultOrder": 20,
    "_isFastLaunch": false,
    "category": "General purpose",
    "gpuNum": 0,
    "hideHardwareSpecs": true,
    "memoryGiB": 0,
    "name": "ml.geospatial.interactive",
    "supportedImageNames": [
     "sagemaker-geospatial-v1-0"
    ],
    "vcpuNum": 0
   },
   {
    "_defaultOrder": 21,
    "_isFastLaunch": true,
    "category": "Compute optimized",
    "gpuNum": 0,
    "hideHardwareSpecs": false,
    "memoryGiB": 4,
    "name": "ml.c5.large",
    "vcpuNum": 2
   },
   {
    "_defaultOrder": 22,
    "_isFastLaunch": false,
    "category": "Compute optimized",
    "gpuNum": 0,
    "hideHardwareSpecs": false,
    "memoryGiB": 8,
    "name": "ml.c5.xlarge",
    "vcpuNum": 4
   },
   {
    "_defaultOrder": 23,
    "_isFastLaunch": false,
    "category": "Compute optimized",
    "gpuNum": 0,
    "hideHardwareSpecs": false,
    "memoryGiB": 16,
    "name": "ml.c5.2xlarge",
    "vcpuNum": 8
   },
   {
    "_defaultOrder": 24,
    "_isFastLaunch": false,
    "category": "Compute optimized",
    "gpuNum": 0,
    "hideHardwareSpecs": false,
    "memoryGiB": 32,
    "name": "ml.c5.4xlarge",
    "vcpuNum": 16
   },
   {
    "_defaultOrder": 25,
    "_isFastLaunch": false,
    "category": "Compute optimized",
    "gpuNum": 0,
    "hideHardwareSpecs": false,
    "memoryGiB": 72,
    "name": "ml.c5.9xlarge",
    "vcpuNum": 36
   },
   {
    "_defaultOrder": 26,
    "_isFastLaunch": false,
    "category": "Compute optimized",
    "gpuNum": 0,
    "hideHardwareSpecs": false,
    "memoryGiB": 96,
    "name": "ml.c5.12xlarge",
    "vcpuNum": 48
   },
   {
    "_defaultOrder": 27,
    "_isFastLaunch": false,
    "category": "Compute optimized",
    "gpuNum": 0,
    "hideHardwareSpecs": false,
    "memoryGiB": 144,
    "name": "ml.c5.18xlarge",
    "vcpuNum": 72
   },
   {
    "_defaultOrder": 28,
    "_isFastLaunch": false,
    "category": "Compute optimized",
    "gpuNum": 0,
    "hideHardwareSpecs": false,
    "memoryGiB": 192,
    "name": "ml.c5.24xlarge",
    "vcpuNum": 96
   },
   {
    "_defaultOrder": 29,
    "_isFastLaunch": true,
    "category": "Accelerated computing",
    "gpuNum": 1,
    "hideHardwareSpecs": false,
    "memoryGiB": 16,
    "name": "ml.g4dn.xlarge",
    "vcpuNum": 4
   },
   {
    "_defaultOrder": 30,
    "_isFastLaunch": false,
    "category": "Accelerated computing",
    "gpuNum": 1,
    "hideHardwareSpecs": false,
    "memoryGiB": 32,
    "name": "ml.g4dn.2xlarge",
    "vcpuNum": 8
   },
   {
    "_defaultOrder": 31,
    "_isFastLaunch": false,
    "category": "Accelerated computing",
    "gpuNum": 1,
    "hideHardwareSpecs": false,
    "memoryGiB": 64,
    "name": "ml.g4dn.4xlarge",
    "vcpuNum": 16
   },
   {
    "_defaultOrder": 32,
    "_isFastLaunch": false,
    "category": "Accelerated computing",
    "gpuNum": 1,
    "hideHardwareSpecs": false,
    "memoryGiB": 128,
    "name": "ml.g4dn.8xlarge",
    "vcpuNum": 32
   },
   {
    "_defaultOrder": 33,
    "_isFastLaunch": false,
    "category": "Accelerated computing",
    "gpuNum": 4,
    "hideHardwareSpecs": false,
    "memoryGiB": 192,
    "name": "ml.g4dn.12xlarge",
    "vcpuNum": 48
   },
   {
    "_defaultOrder": 34,
    "_isFastLaunch": false,
    "category": "Accelerated computing",
    "gpuNum": 1,
    "hideHardwareSpecs": false,
    "memoryGiB": 256,
    "name": "ml.g4dn.16xlarge",
    "vcpuNum": 64
   },
   {
    "_defaultOrder": 35,
    "_isFastLaunch": false,
    "category": "Accelerated computing",
    "gpuNum": 1,
    "hideHardwareSpecs": false,
    "memoryGiB": 61,
    "name": "ml.p3.2xlarge",
    "vcpuNum": 8
   },
   {
    "_defaultOrder": 36,
    "_isFastLaunch": false,
    "category": "Accelerated computing",
    "gpuNum": 4,
    "hideHardwareSpecs": false,
    "memoryGiB": 244,
    "name": "ml.p3.8xlarge",
    "vcpuNum": 32
   },
   {
    "_defaultOrder": 37,
    "_isFastLaunch": false,
    "category": "Accelerated computing",
    "gpuNum": 8,
    "hideHardwareSpecs": false,
    "memoryGiB": 488,
    "name": "ml.p3.16xlarge",
    "vcpuNum": 64
   },
   {
    "_defaultOrder": 38,
    "_isFastLaunch": false,
    "category": "Accelerated computing",
    "gpuNum": 8,
    "hideHardwareSpecs": false,
    "memoryGiB": 768,
    "name": "ml.p3dn.24xlarge",
    "vcpuNum": 96
   },
   {
    "_defaultOrder": 39,
    "_isFastLaunch": false,
    "category": "Memory Optimized",
    "gpuNum": 0,
    "hideHardwareSpecs": false,
    "memoryGiB": 16,
    "name": "ml.r5.large",
    "vcpuNum": 2
   },
   {
    "_defaultOrder": 40,
    "_isFastLaunch": false,
    "category": "Memory Optimized",
    "gpuNum": 0,
    "hideHardwareSpecs": false,
    "memoryGiB": 32,
    "name": "ml.r5.xlarge",
    "vcpuNum": 4
   },
   {
    "_defaultOrder": 41,
    "_isFastLaunch": false,
    "category": "Memory Optimized",
    "gpuNum": 0,
    "hideHardwareSpecs": false,
    "memoryGiB": 64,
    "name": "ml.r5.2xlarge",
    "vcpuNum": 8
   },
   {
    "_defaultOrder": 42,
    "_isFastLaunch": false,
    "category": "Memory Optimized",
    "gpuNum": 0,
    "hideHardwareSpecs": false,
    "memoryGiB": 128,
    "name": "ml.r5.4xlarge",
    "vcpuNum": 16
   },
   {
    "_defaultOrder": 43,
    "_isFastLaunch": false,
    "category": "Memory Optimized",
    "gpuNum": 0,
    "hideHardwareSpecs": false,
    "memoryGiB": 256,
    "name": "ml.r5.8xlarge",
    "vcpuNum": 32
   },
   {
    "_defaultOrder": 44,
    "_isFastLaunch": false,
    "category": "Memory Optimized",
    "gpuNum": 0,
    "hideHardwareSpecs": false,
    "memoryGiB": 384,
    "name": "ml.r5.12xlarge",
    "vcpuNum": 48
   },
   {
    "_defaultOrder": 45,
    "_isFastLaunch": false,
    "category": "Memory Optimized",
    "gpuNum": 0,
    "hideHardwareSpecs": false,
    "memoryGiB": 512,
    "name": "ml.r5.16xlarge",
    "vcpuNum": 64
   },
   {
    "_defaultOrder": 46,
    "_isFastLaunch": false,
    "category": "Memory Optimized",
    "gpuNum": 0,
    "hideHardwareSpecs": false,
    "memoryGiB": 768,
    "name": "ml.r5.24xlarge",
    "vcpuNum": 96
   },
   {
    "_defaultOrder": 47,
    "_isFastLaunch": false,
    "category": "Accelerated computing",
    "gpuNum": 1,
    "hideHardwareSpecs": false,
    "memoryGiB": 16,
    "name": "ml.g5.xlarge",
    "vcpuNum": 4
   },
   {
    "_defaultOrder": 48,
    "_isFastLaunch": false,
    "category": "Accelerated computing",
    "gpuNum": 1,
    "hideHardwareSpecs": false,
    "memoryGiB": 32,
    "name": "ml.g5.2xlarge",
    "vcpuNum": 8
   },
   {
    "_defaultOrder": 49,
    "_isFastLaunch": false,
    "category": "Accelerated computing",
    "gpuNum": 1,
    "hideHardwareSpecs": false,
    "memoryGiB": 64,
    "name": "ml.g5.4xlarge",
    "vcpuNum": 16
   },
   {
    "_defaultOrder": 50,
    "_isFastLaunch": false,
    "category": "Accelerated computing",
    "gpuNum": 1,
    "hideHardwareSpecs": false,
    "memoryGiB": 128,
    "name": "ml.g5.8xlarge",
    "vcpuNum": 32
   },
   {
    "_defaultOrder": 51,
    "_isFastLaunch": false,
    "category": "Accelerated computing",
    "gpuNum": 1,
    "hideHardwareSpecs": false,
    "memoryGiB": 256,
    "name": "ml.g5.16xlarge",
    "vcpuNum": 64
   },
   {
    "_defaultOrder": 52,
    "_isFastLaunch": false,
    "category": "Accelerated computing",
    "gpuNum": 4,
    "hideHardwareSpecs": false,
    "memoryGiB": 192,
    "name": "ml.g5.12xlarge",
    "vcpuNum": 48
   },
   {
    "_defaultOrder": 53,
    "_isFastLaunch": false,
    "category": "Accelerated computing",
    "gpuNum": 4,
    "hideHardwareSpecs": false,
    "memoryGiB": 384,
    "name": "ml.g5.24xlarge",
    "vcpuNum": 96
   },
   {
    "_defaultOrder": 54,
    "_isFastLaunch": false,
    "category": "Accelerated computing",
    "gpuNum": 8,
    "hideHardwareSpecs": false,
    "memoryGiB": 768,
    "name": "ml.g5.48xlarge",
    "vcpuNum": 192
   },
   {
    "_defaultOrder": 55,
    "_isFastLaunch": false,
    "category": "Accelerated computing",
    "gpuNum": 8,
    "hideHardwareSpecs": false,
    "memoryGiB": 1152,
    "name": "ml.p4d.24xlarge",
    "vcpuNum": 96
   },
   {
    "_defaultOrder": 56,
    "_isFastLaunch": false,
    "category": "Accelerated computing",
    "gpuNum": 8,
    "hideHardwareSpecs": false,
    "memoryGiB": 1152,
    "name": "ml.p4de.24xlarge",
    "vcpuNum": 96
   }
  ],
  "instance_type": "ml.g4dn.xlarge",
  "kernelspec": {
   "display_name": "Python 3 (Data Science)",
   "language": "python",
   "name": "python3__SAGEMAKER_INTERNAL__arn:aws:sagemaker:us-east-1:081325390199:image/datascience-1.0"
  },
  "language_info": {
   "codemirror_mode": {
    "name": "ipython",
    "version": 3
   },
   "file_extension": ".py",
   "mimetype": "text/x-python",
   "name": "python",
   "nbconvert_exporter": "python",
   "pygments_lexer": "ipython3",
   "version": "3.7.10"
  },
  "toc-autonumbering": false,
  "vscode": {
   "interpreter": {
    "hash": "e382548b1da036d5c0abb0bcbb1613c0a01166c16e19efa10a34bdcc35940384"
   }
  }
 },
 "nbformat": 4,
 "nbformat_minor": 5
}
